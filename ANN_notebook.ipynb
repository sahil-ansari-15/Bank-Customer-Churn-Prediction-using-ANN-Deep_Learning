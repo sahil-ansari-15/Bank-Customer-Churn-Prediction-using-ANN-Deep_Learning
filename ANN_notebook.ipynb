{
  "nbformat": 4,
  "nbformat_minor": 0,
  "metadata": {
    "colab": {
      "provenance": [],
      "authorship_tag": "ABX9TyP9uWCg7WQjfZ8UgdG6a6Z9",
      "include_colab_link": true
    },
    "kernelspec": {
      "name": "python3",
      "display_name": "Python 3"
    },
    "language_info": {
      "name": "python"
    }
  },
  "cells": [
    {
      "cell_type": "markdown",
      "metadata": {
        "id": "view-in-github",
        "colab_type": "text"
      },
      "source": [
        "<a href=\"https://colab.research.google.com/github/sahil-ansari-15/Bank-Customer-Churn-Prediction-using-ANN-Deep_Learning/blob/main/ANN_notebook.ipynb\" target=\"_parent\"><img src=\"https://colab.research.google.com/assets/colab-badge.svg\" alt=\"Open In Colab\"/></a>"
      ]
    },
    {
      "cell_type": "markdown",
      "source": [
        "# Artificial Neural Network"
      ],
      "metadata": {
        "id": "tagZCovf10oH"
      }
    },
    {
      "cell_type": "markdown",
      "source": [
        "### Data Preprocessing"
      ],
      "metadata": {
        "id": "TjS87TIs2BFN"
      }
    },
    {
      "cell_type": "code",
      "source": [
        "# Importing the libraries\n",
        "\n",
        "import numpy as np\n",
        "import matplotlib.pyplot as plt\n",
        "import pandas as pd"
      ],
      "metadata": {
        "id": "pkoNhEb711OC"
      },
      "execution_count": 1,
      "outputs": []
    },
    {
      "cell_type": "code",
      "source": [
        "# Importing the dataset\n",
        "\n",
        "df_dataset = pd.read_csv('Churn_Modelling.csv')\n",
        "X = df_dataset.iloc[:, 3:13]\n",
        "y = df_dataset.iloc[:, 13]"
      ],
      "metadata": {
        "id": "SGhzukZh76yl"
      },
      "execution_count": 2,
      "outputs": []
    },
    {
      "cell_type": "code",
      "source": [
        "df_dataset.head()"
      ],
      "metadata": {
        "colab": {
          "base_uri": "https://localhost:8080/",
          "height": 268
        },
        "id": "OiYh5TIK8TzR",
        "outputId": "5c886264-1a98-40fd-e46c-d67af49b542b"
      },
      "execution_count": 3,
      "outputs": [
        {
          "output_type": "execute_result",
          "data": {
            "text/plain": [
              "   RowNumber  CustomerId   Surname  CreditScore Geography  Gender  Age  \\\n",
              "0          1    15634602  Hargrave          619    France  Female   42   \n",
              "1          2    15647311      Hill          608     Spain  Female   41   \n",
              "2          3    15619304      Onio          502    France  Female   42   \n",
              "3          4    15701354      Boni          699    France  Female   39   \n",
              "4          5    15737888  Mitchell          850     Spain  Female   43   \n",
              "\n",
              "   Tenure    Balance  NumOfProducts  HasCrCard  IsActiveMember  \\\n",
              "0       2       0.00              1          1               1   \n",
              "1       1   83807.86              1          0               1   \n",
              "2       8  159660.80              3          1               0   \n",
              "3       1       0.00              2          0               0   \n",
              "4       2  125510.82              1          1               1   \n",
              "\n",
              "   EstimatedSalary  Exited  \n",
              "0        101348.88       1  \n",
              "1        112542.58       0  \n",
              "2        113931.57       1  \n",
              "3         93826.63       0  \n",
              "4         79084.10       0  "
            ],
            "text/html": [
              "\n",
              "  <div id=\"df-9b1f8900-f53d-45cc-8f95-cc20245a479f\">\n",
              "    <div class=\"colab-df-container\">\n",
              "      <div>\n",
              "<style scoped>\n",
              "    .dataframe tbody tr th:only-of-type {\n",
              "        vertical-align: middle;\n",
              "    }\n",
              "\n",
              "    .dataframe tbody tr th {\n",
              "        vertical-align: top;\n",
              "    }\n",
              "\n",
              "    .dataframe thead th {\n",
              "        text-align: right;\n",
              "    }\n",
              "</style>\n",
              "<table border=\"1\" class=\"dataframe\">\n",
              "  <thead>\n",
              "    <tr style=\"text-align: right;\">\n",
              "      <th></th>\n",
              "      <th>RowNumber</th>\n",
              "      <th>CustomerId</th>\n",
              "      <th>Surname</th>\n",
              "      <th>CreditScore</th>\n",
              "      <th>Geography</th>\n",
              "      <th>Gender</th>\n",
              "      <th>Age</th>\n",
              "      <th>Tenure</th>\n",
              "      <th>Balance</th>\n",
              "      <th>NumOfProducts</th>\n",
              "      <th>HasCrCard</th>\n",
              "      <th>IsActiveMember</th>\n",
              "      <th>EstimatedSalary</th>\n",
              "      <th>Exited</th>\n",
              "    </tr>\n",
              "  </thead>\n",
              "  <tbody>\n",
              "    <tr>\n",
              "      <th>0</th>\n",
              "      <td>1</td>\n",
              "      <td>15634602</td>\n",
              "      <td>Hargrave</td>\n",
              "      <td>619</td>\n",
              "      <td>France</td>\n",
              "      <td>Female</td>\n",
              "      <td>42</td>\n",
              "      <td>2</td>\n",
              "      <td>0.00</td>\n",
              "      <td>1</td>\n",
              "      <td>1</td>\n",
              "      <td>1</td>\n",
              "      <td>101348.88</td>\n",
              "      <td>1</td>\n",
              "    </tr>\n",
              "    <tr>\n",
              "      <th>1</th>\n",
              "      <td>2</td>\n",
              "      <td>15647311</td>\n",
              "      <td>Hill</td>\n",
              "      <td>608</td>\n",
              "      <td>Spain</td>\n",
              "      <td>Female</td>\n",
              "      <td>41</td>\n",
              "      <td>1</td>\n",
              "      <td>83807.86</td>\n",
              "      <td>1</td>\n",
              "      <td>0</td>\n",
              "      <td>1</td>\n",
              "      <td>112542.58</td>\n",
              "      <td>0</td>\n",
              "    </tr>\n",
              "    <tr>\n",
              "      <th>2</th>\n",
              "      <td>3</td>\n",
              "      <td>15619304</td>\n",
              "      <td>Onio</td>\n",
              "      <td>502</td>\n",
              "      <td>France</td>\n",
              "      <td>Female</td>\n",
              "      <td>42</td>\n",
              "      <td>8</td>\n",
              "      <td>159660.80</td>\n",
              "      <td>3</td>\n",
              "      <td>1</td>\n",
              "      <td>0</td>\n",
              "      <td>113931.57</td>\n",
              "      <td>1</td>\n",
              "    </tr>\n",
              "    <tr>\n",
              "      <th>3</th>\n",
              "      <td>4</td>\n",
              "      <td>15701354</td>\n",
              "      <td>Boni</td>\n",
              "      <td>699</td>\n",
              "      <td>France</td>\n",
              "      <td>Female</td>\n",
              "      <td>39</td>\n",
              "      <td>1</td>\n",
              "      <td>0.00</td>\n",
              "      <td>2</td>\n",
              "      <td>0</td>\n",
              "      <td>0</td>\n",
              "      <td>93826.63</td>\n",
              "      <td>0</td>\n",
              "    </tr>\n",
              "    <tr>\n",
              "      <th>4</th>\n",
              "      <td>5</td>\n",
              "      <td>15737888</td>\n",
              "      <td>Mitchell</td>\n",
              "      <td>850</td>\n",
              "      <td>Spain</td>\n",
              "      <td>Female</td>\n",
              "      <td>43</td>\n",
              "      <td>2</td>\n",
              "      <td>125510.82</td>\n",
              "      <td>1</td>\n",
              "      <td>1</td>\n",
              "      <td>1</td>\n",
              "      <td>79084.10</td>\n",
              "      <td>0</td>\n",
              "    </tr>\n",
              "  </tbody>\n",
              "</table>\n",
              "</div>\n",
              "      <button class=\"colab-df-convert\" onclick=\"convertToInteractive('df-9b1f8900-f53d-45cc-8f95-cc20245a479f')\"\n",
              "              title=\"Convert this dataframe to an interactive table.\"\n",
              "              style=\"display:none;\">\n",
              "        \n",
              "  <svg xmlns=\"http://www.w3.org/2000/svg\" height=\"24px\"viewBox=\"0 0 24 24\"\n",
              "       width=\"24px\">\n",
              "    <path d=\"M0 0h24v24H0V0z\" fill=\"none\"/>\n",
              "    <path d=\"M18.56 5.44l.94 2.06.94-2.06 2.06-.94-2.06-.94-.94-2.06-.94 2.06-2.06.94zm-11 1L8.5 8.5l.94-2.06 2.06-.94-2.06-.94L8.5 2.5l-.94 2.06-2.06.94zm10 10l.94 2.06.94-2.06 2.06-.94-2.06-.94-.94-2.06-.94 2.06-2.06.94z\"/><path d=\"M17.41 7.96l-1.37-1.37c-.4-.4-.92-.59-1.43-.59-.52 0-1.04.2-1.43.59L10.3 9.45l-7.72 7.72c-.78.78-.78 2.05 0 2.83L4 21.41c.39.39.9.59 1.41.59.51 0 1.02-.2 1.41-.59l7.78-7.78 2.81-2.81c.8-.78.8-2.07 0-2.86zM5.41 20L4 18.59l7.72-7.72 1.47 1.35L5.41 20z\"/>\n",
              "  </svg>\n",
              "      </button>\n",
              "      \n",
              "  <style>\n",
              "    .colab-df-container {\n",
              "      display:flex;\n",
              "      flex-wrap:wrap;\n",
              "      gap: 12px;\n",
              "    }\n",
              "\n",
              "    .colab-df-convert {\n",
              "      background-color: #E8F0FE;\n",
              "      border: none;\n",
              "      border-radius: 50%;\n",
              "      cursor: pointer;\n",
              "      display: none;\n",
              "      fill: #1967D2;\n",
              "      height: 32px;\n",
              "      padding: 0 0 0 0;\n",
              "      width: 32px;\n",
              "    }\n",
              "\n",
              "    .colab-df-convert:hover {\n",
              "      background-color: #E2EBFA;\n",
              "      box-shadow: 0px 1px 2px rgba(60, 64, 67, 0.3), 0px 1px 3px 1px rgba(60, 64, 67, 0.15);\n",
              "      fill: #174EA6;\n",
              "    }\n",
              "\n",
              "    [theme=dark] .colab-df-convert {\n",
              "      background-color: #3B4455;\n",
              "      fill: #D2E3FC;\n",
              "    }\n",
              "\n",
              "    [theme=dark] .colab-df-convert:hover {\n",
              "      background-color: #434B5C;\n",
              "      box-shadow: 0px 1px 3px 1px rgba(0, 0, 0, 0.15);\n",
              "      filter: drop-shadow(0px 1px 2px rgba(0, 0, 0, 0.3));\n",
              "      fill: #FFFFFF;\n",
              "    }\n",
              "  </style>\n",
              "\n",
              "      <script>\n",
              "        const buttonEl =\n",
              "          document.querySelector('#df-9b1f8900-f53d-45cc-8f95-cc20245a479f button.colab-df-convert');\n",
              "        buttonEl.style.display =\n",
              "          google.colab.kernel.accessAllowed ? 'block' : 'none';\n",
              "\n",
              "        async function convertToInteractive(key) {\n",
              "          const element = document.querySelector('#df-9b1f8900-f53d-45cc-8f95-cc20245a479f');\n",
              "          const dataTable =\n",
              "            await google.colab.kernel.invokeFunction('convertToInteractive',\n",
              "                                                     [key], {});\n",
              "          if (!dataTable) return;\n",
              "\n",
              "          const docLinkHtml = 'Like what you see? Visit the ' +\n",
              "            '<a target=\"_blank\" href=https://colab.research.google.com/notebooks/data_table.ipynb>data table notebook</a>'\n",
              "            + ' to learn more about interactive tables.';\n",
              "          element.innerHTML = '';\n",
              "          dataTable['output_type'] = 'display_data';\n",
              "          await google.colab.output.renderOutput(dataTable, element);\n",
              "          const docLink = document.createElement('div');\n",
              "          docLink.innerHTML = docLinkHtml;\n",
              "          element.appendChild(docLink);\n",
              "        }\n",
              "      </script>\n",
              "    </div>\n",
              "  </div>\n",
              "  "
            ]
          },
          "metadata": {},
          "execution_count": 3
        }
      ]
    },
    {
      "cell_type": "code",
      "source": [
        "df_dataset.info()"
      ],
      "metadata": {
        "colab": {
          "base_uri": "https://localhost:8080/"
        },
        "id": "npQsb_xn8WjS",
        "outputId": "4443c8ac-aec6-4689-fc66-08e06a33b944"
      },
      "execution_count": 4,
      "outputs": [
        {
          "output_type": "stream",
          "name": "stdout",
          "text": [
            "<class 'pandas.core.frame.DataFrame'>\n",
            "RangeIndex: 10000 entries, 0 to 9999\n",
            "Data columns (total 14 columns):\n",
            " #   Column           Non-Null Count  Dtype  \n",
            "---  ------           --------------  -----  \n",
            " 0   RowNumber        10000 non-null  int64  \n",
            " 1   CustomerId       10000 non-null  int64  \n",
            " 2   Surname          10000 non-null  object \n",
            " 3   CreditScore      10000 non-null  int64  \n",
            " 4   Geography        10000 non-null  object \n",
            " 5   Gender           10000 non-null  object \n",
            " 6   Age              10000 non-null  int64  \n",
            " 7   Tenure           10000 non-null  int64  \n",
            " 8   Balance          10000 non-null  float64\n",
            " 9   NumOfProducts    10000 non-null  int64  \n",
            " 10  HasCrCard        10000 non-null  int64  \n",
            " 11  IsActiveMember   10000 non-null  int64  \n",
            " 12  EstimatedSalary  10000 non-null  float64\n",
            " 13  Exited           10000 non-null  int64  \n",
            "dtypes: float64(2), int64(9), object(3)\n",
            "memory usage: 1.1+ MB\n"
          ]
        }
      ]
    },
    {
      "cell_type": "code",
      "source": [
        "#Create dummy variables for One-hot encoding\n",
        "\n",
        "geography = pd.get_dummies(X[\"Geography\"],drop_first=True)\n",
        "gender = pd.get_dummies(X['Gender'],drop_first=True)"
      ],
      "metadata": {
        "id": "zZKQaj6Z9dAE"
      },
      "execution_count": 5,
      "outputs": []
    },
    {
      "cell_type": "code",
      "source": [
        "df_dataset.Geography.value_counts()"
      ],
      "metadata": {
        "colab": {
          "base_uri": "https://localhost:8080/"
        },
        "id": "G-bDkgY_-PLY",
        "outputId": "33fb83df-bf66-424a-de83-834745f33988"
      },
      "execution_count": 6,
      "outputs": [
        {
          "output_type": "execute_result",
          "data": {
            "text/plain": [
              "France     5014\n",
              "Germany    2509\n",
              "Spain      2477\n",
              "Name: Geography, dtype: int64"
            ]
          },
          "metadata": {},
          "execution_count": 6
        }
      ]
    },
    {
      "cell_type": "code",
      "source": [
        "geography.head()"
      ],
      "metadata": {
        "colab": {
          "base_uri": "https://localhost:8080/",
          "height": 204
        },
        "id": "I3QRuOtD9dra",
        "outputId": "ad2f9c4e-3ef8-4435-9682-f9bbbeba71eb"
      },
      "execution_count": 7,
      "outputs": [
        {
          "output_type": "execute_result",
          "data": {
            "text/plain": [
              "   Germany  Spain\n",
              "0        0      0\n",
              "1        0      1\n",
              "2        0      0\n",
              "3        0      0\n",
              "4        0      1"
            ],
            "text/html": [
              "\n",
              "  <div id=\"df-1803745f-b100-484b-98cf-f1442431a3a5\">\n",
              "    <div class=\"colab-df-container\">\n",
              "      <div>\n",
              "<style scoped>\n",
              "    .dataframe tbody tr th:only-of-type {\n",
              "        vertical-align: middle;\n",
              "    }\n",
              "\n",
              "    .dataframe tbody tr th {\n",
              "        vertical-align: top;\n",
              "    }\n",
              "\n",
              "    .dataframe thead th {\n",
              "        text-align: right;\n",
              "    }\n",
              "</style>\n",
              "<table border=\"1\" class=\"dataframe\">\n",
              "  <thead>\n",
              "    <tr style=\"text-align: right;\">\n",
              "      <th></th>\n",
              "      <th>Germany</th>\n",
              "      <th>Spain</th>\n",
              "    </tr>\n",
              "  </thead>\n",
              "  <tbody>\n",
              "    <tr>\n",
              "      <th>0</th>\n",
              "      <td>0</td>\n",
              "      <td>0</td>\n",
              "    </tr>\n",
              "    <tr>\n",
              "      <th>1</th>\n",
              "      <td>0</td>\n",
              "      <td>1</td>\n",
              "    </tr>\n",
              "    <tr>\n",
              "      <th>2</th>\n",
              "      <td>0</td>\n",
              "      <td>0</td>\n",
              "    </tr>\n",
              "    <tr>\n",
              "      <th>3</th>\n",
              "      <td>0</td>\n",
              "      <td>0</td>\n",
              "    </tr>\n",
              "    <tr>\n",
              "      <th>4</th>\n",
              "      <td>0</td>\n",
              "      <td>1</td>\n",
              "    </tr>\n",
              "  </tbody>\n",
              "</table>\n",
              "</div>\n",
              "      <button class=\"colab-df-convert\" onclick=\"convertToInteractive('df-1803745f-b100-484b-98cf-f1442431a3a5')\"\n",
              "              title=\"Convert this dataframe to an interactive table.\"\n",
              "              style=\"display:none;\">\n",
              "        \n",
              "  <svg xmlns=\"http://www.w3.org/2000/svg\" height=\"24px\"viewBox=\"0 0 24 24\"\n",
              "       width=\"24px\">\n",
              "    <path d=\"M0 0h24v24H0V0z\" fill=\"none\"/>\n",
              "    <path d=\"M18.56 5.44l.94 2.06.94-2.06 2.06-.94-2.06-.94-.94-2.06-.94 2.06-2.06.94zm-11 1L8.5 8.5l.94-2.06 2.06-.94-2.06-.94L8.5 2.5l-.94 2.06-2.06.94zm10 10l.94 2.06.94-2.06 2.06-.94-2.06-.94-.94-2.06-.94 2.06-2.06.94z\"/><path d=\"M17.41 7.96l-1.37-1.37c-.4-.4-.92-.59-1.43-.59-.52 0-1.04.2-1.43.59L10.3 9.45l-7.72 7.72c-.78.78-.78 2.05 0 2.83L4 21.41c.39.39.9.59 1.41.59.51 0 1.02-.2 1.41-.59l7.78-7.78 2.81-2.81c.8-.78.8-2.07 0-2.86zM5.41 20L4 18.59l7.72-7.72 1.47 1.35L5.41 20z\"/>\n",
              "  </svg>\n",
              "      </button>\n",
              "      \n",
              "  <style>\n",
              "    .colab-df-container {\n",
              "      display:flex;\n",
              "      flex-wrap:wrap;\n",
              "      gap: 12px;\n",
              "    }\n",
              "\n",
              "    .colab-df-convert {\n",
              "      background-color: #E8F0FE;\n",
              "      border: none;\n",
              "      border-radius: 50%;\n",
              "      cursor: pointer;\n",
              "      display: none;\n",
              "      fill: #1967D2;\n",
              "      height: 32px;\n",
              "      padding: 0 0 0 0;\n",
              "      width: 32px;\n",
              "    }\n",
              "\n",
              "    .colab-df-convert:hover {\n",
              "      background-color: #E2EBFA;\n",
              "      box-shadow: 0px 1px 2px rgba(60, 64, 67, 0.3), 0px 1px 3px 1px rgba(60, 64, 67, 0.15);\n",
              "      fill: #174EA6;\n",
              "    }\n",
              "\n",
              "    [theme=dark] .colab-df-convert {\n",
              "      background-color: #3B4455;\n",
              "      fill: #D2E3FC;\n",
              "    }\n",
              "\n",
              "    [theme=dark] .colab-df-convert:hover {\n",
              "      background-color: #434B5C;\n",
              "      box-shadow: 0px 1px 3px 1px rgba(0, 0, 0, 0.15);\n",
              "      filter: drop-shadow(0px 1px 2px rgba(0, 0, 0, 0.3));\n",
              "      fill: #FFFFFF;\n",
              "    }\n",
              "  </style>\n",
              "\n",
              "      <script>\n",
              "        const buttonEl =\n",
              "          document.querySelector('#df-1803745f-b100-484b-98cf-f1442431a3a5 button.colab-df-convert');\n",
              "        buttonEl.style.display =\n",
              "          google.colab.kernel.accessAllowed ? 'block' : 'none';\n",
              "\n",
              "        async function convertToInteractive(key) {\n",
              "          const element = document.querySelector('#df-1803745f-b100-484b-98cf-f1442431a3a5');\n",
              "          const dataTable =\n",
              "            await google.colab.kernel.invokeFunction('convertToInteractive',\n",
              "                                                     [key], {});\n",
              "          if (!dataTable) return;\n",
              "\n",
              "          const docLinkHtml = 'Like what you see? Visit the ' +\n",
              "            '<a target=\"_blank\" href=https://colab.research.google.com/notebooks/data_table.ipynb>data table notebook</a>'\n",
              "            + ' to learn more about interactive tables.';\n",
              "          element.innerHTML = '';\n",
              "          dataTable['output_type'] = 'display_data';\n",
              "          await google.colab.output.renderOutput(dataTable, element);\n",
              "          const docLink = document.createElement('div');\n",
              "          docLink.innerHTML = docLinkHtml;\n",
              "          element.appendChild(docLink);\n",
              "        }\n",
              "      </script>\n",
              "    </div>\n",
              "  </div>\n",
              "  "
            ]
          },
          "metadata": {},
          "execution_count": 7
        }
      ]
    },
    {
      "cell_type": "code",
      "source": [
        "# Concatenate the Data Frames\n",
        "\n",
        "X = pd.concat([X,geography,gender],axis=1)"
      ],
      "metadata": {
        "id": "-Wipx3B6-LRn"
      },
      "execution_count": 8,
      "outputs": []
    },
    {
      "cell_type": "code",
      "source": [
        "X.head(2)"
      ],
      "metadata": {
        "id": "VSwQPTxP_lAX",
        "outputId": "c930a2f6-87e3-48d6-8e35-85a3ab461163",
        "colab": {
          "base_uri": "https://localhost:8080/",
          "height": 155
        }
      },
      "execution_count": 9,
      "outputs": [
        {
          "output_type": "execute_result",
          "data": {
            "text/plain": [
              "   CreditScore Geography  Gender  Age  Tenure   Balance  NumOfProducts  \\\n",
              "0          619    France  Female   42       2      0.00              1   \n",
              "1          608     Spain  Female   41       1  83807.86              1   \n",
              "\n",
              "   HasCrCard  IsActiveMember  EstimatedSalary  Germany  Spain  Male  \n",
              "0          1               1        101348.88        0      0     0  \n",
              "1          0               1        112542.58        0      1     0  "
            ],
            "text/html": [
              "\n",
              "  <div id=\"df-2d716a3a-0d3c-4e8e-9a7b-ae73fa76fc73\">\n",
              "    <div class=\"colab-df-container\">\n",
              "      <div>\n",
              "<style scoped>\n",
              "    .dataframe tbody tr th:only-of-type {\n",
              "        vertical-align: middle;\n",
              "    }\n",
              "\n",
              "    .dataframe tbody tr th {\n",
              "        vertical-align: top;\n",
              "    }\n",
              "\n",
              "    .dataframe thead th {\n",
              "        text-align: right;\n",
              "    }\n",
              "</style>\n",
              "<table border=\"1\" class=\"dataframe\">\n",
              "  <thead>\n",
              "    <tr style=\"text-align: right;\">\n",
              "      <th></th>\n",
              "      <th>CreditScore</th>\n",
              "      <th>Geography</th>\n",
              "      <th>Gender</th>\n",
              "      <th>Age</th>\n",
              "      <th>Tenure</th>\n",
              "      <th>Balance</th>\n",
              "      <th>NumOfProducts</th>\n",
              "      <th>HasCrCard</th>\n",
              "      <th>IsActiveMember</th>\n",
              "      <th>EstimatedSalary</th>\n",
              "      <th>Germany</th>\n",
              "      <th>Spain</th>\n",
              "      <th>Male</th>\n",
              "    </tr>\n",
              "  </thead>\n",
              "  <tbody>\n",
              "    <tr>\n",
              "      <th>0</th>\n",
              "      <td>619</td>\n",
              "      <td>France</td>\n",
              "      <td>Female</td>\n",
              "      <td>42</td>\n",
              "      <td>2</td>\n",
              "      <td>0.00</td>\n",
              "      <td>1</td>\n",
              "      <td>1</td>\n",
              "      <td>1</td>\n",
              "      <td>101348.88</td>\n",
              "      <td>0</td>\n",
              "      <td>0</td>\n",
              "      <td>0</td>\n",
              "    </tr>\n",
              "    <tr>\n",
              "      <th>1</th>\n",
              "      <td>608</td>\n",
              "      <td>Spain</td>\n",
              "      <td>Female</td>\n",
              "      <td>41</td>\n",
              "      <td>1</td>\n",
              "      <td>83807.86</td>\n",
              "      <td>1</td>\n",
              "      <td>0</td>\n",
              "      <td>1</td>\n",
              "      <td>112542.58</td>\n",
              "      <td>0</td>\n",
              "      <td>1</td>\n",
              "      <td>0</td>\n",
              "    </tr>\n",
              "  </tbody>\n",
              "</table>\n",
              "</div>\n",
              "      <button class=\"colab-df-convert\" onclick=\"convertToInteractive('df-2d716a3a-0d3c-4e8e-9a7b-ae73fa76fc73')\"\n",
              "              title=\"Convert this dataframe to an interactive table.\"\n",
              "              style=\"display:none;\">\n",
              "        \n",
              "  <svg xmlns=\"http://www.w3.org/2000/svg\" height=\"24px\"viewBox=\"0 0 24 24\"\n",
              "       width=\"24px\">\n",
              "    <path d=\"M0 0h24v24H0V0z\" fill=\"none\"/>\n",
              "    <path d=\"M18.56 5.44l.94 2.06.94-2.06 2.06-.94-2.06-.94-.94-2.06-.94 2.06-2.06.94zm-11 1L8.5 8.5l.94-2.06 2.06-.94-2.06-.94L8.5 2.5l-.94 2.06-2.06.94zm10 10l.94 2.06.94-2.06 2.06-.94-2.06-.94-.94-2.06-.94 2.06-2.06.94z\"/><path d=\"M17.41 7.96l-1.37-1.37c-.4-.4-.92-.59-1.43-.59-.52 0-1.04.2-1.43.59L10.3 9.45l-7.72 7.72c-.78.78-.78 2.05 0 2.83L4 21.41c.39.39.9.59 1.41.59.51 0 1.02-.2 1.41-.59l7.78-7.78 2.81-2.81c.8-.78.8-2.07 0-2.86zM5.41 20L4 18.59l7.72-7.72 1.47 1.35L5.41 20z\"/>\n",
              "  </svg>\n",
              "      </button>\n",
              "      \n",
              "  <style>\n",
              "    .colab-df-container {\n",
              "      display:flex;\n",
              "      flex-wrap:wrap;\n",
              "      gap: 12px;\n",
              "    }\n",
              "\n",
              "    .colab-df-convert {\n",
              "      background-color: #E8F0FE;\n",
              "      border: none;\n",
              "      border-radius: 50%;\n",
              "      cursor: pointer;\n",
              "      display: none;\n",
              "      fill: #1967D2;\n",
              "      height: 32px;\n",
              "      padding: 0 0 0 0;\n",
              "      width: 32px;\n",
              "    }\n",
              "\n",
              "    .colab-df-convert:hover {\n",
              "      background-color: #E2EBFA;\n",
              "      box-shadow: 0px 1px 2px rgba(60, 64, 67, 0.3), 0px 1px 3px 1px rgba(60, 64, 67, 0.15);\n",
              "      fill: #174EA6;\n",
              "    }\n",
              "\n",
              "    [theme=dark] .colab-df-convert {\n",
              "      background-color: #3B4455;\n",
              "      fill: #D2E3FC;\n",
              "    }\n",
              "\n",
              "    [theme=dark] .colab-df-convert:hover {\n",
              "      background-color: #434B5C;\n",
              "      box-shadow: 0px 1px 3px 1px rgba(0, 0, 0, 0.15);\n",
              "      filter: drop-shadow(0px 1px 2px rgba(0, 0, 0, 0.3));\n",
              "      fill: #FFFFFF;\n",
              "    }\n",
              "  </style>\n",
              "\n",
              "      <script>\n",
              "        const buttonEl =\n",
              "          document.querySelector('#df-2d716a3a-0d3c-4e8e-9a7b-ae73fa76fc73 button.colab-df-convert');\n",
              "        buttonEl.style.display =\n",
              "          google.colab.kernel.accessAllowed ? 'block' : 'none';\n",
              "\n",
              "        async function convertToInteractive(key) {\n",
              "          const element = document.querySelector('#df-2d716a3a-0d3c-4e8e-9a7b-ae73fa76fc73');\n",
              "          const dataTable =\n",
              "            await google.colab.kernel.invokeFunction('convertToInteractive',\n",
              "                                                     [key], {});\n",
              "          if (!dataTable) return;\n",
              "\n",
              "          const docLinkHtml = 'Like what you see? Visit the ' +\n",
              "            '<a target=\"_blank\" href=https://colab.research.google.com/notebooks/data_table.ipynb>data table notebook</a>'\n",
              "            + ' to learn more about interactive tables.';\n",
              "          element.innerHTML = '';\n",
              "          dataTable['output_type'] = 'display_data';\n",
              "          await google.colab.output.renderOutput(dataTable, element);\n",
              "          const docLink = document.createElement('div');\n",
              "          docLink.innerHTML = docLinkHtml;\n",
              "          element.appendChild(docLink);\n",
              "        }\n",
              "      </script>\n",
              "    </div>\n",
              "  </div>\n",
              "  "
            ]
          },
          "metadata": {},
          "execution_count": 9
        }
      ]
    },
    {
      "cell_type": "code",
      "source": [
        "# Drop Unnecessary columns\n",
        "\n",
        "X = X.drop(['Geography','Gender'],axis=1)"
      ],
      "metadata": {
        "id": "13h3hZ_5_vM5"
      },
      "execution_count": 10,
      "outputs": []
    },
    {
      "cell_type": "code",
      "source": [
        "# Splitting the dataset into the Training set and Test set\n",
        "\n",
        "from sklearn.model_selection import train_test_split\n",
        "\n",
        "X_train, X_test, y_train, y_test = train_test_split(X, y, test_size = 0.2, random_state = 0)"
      ],
      "metadata": {
        "id": "_Mx_J1W6AF4E"
      },
      "execution_count": 11,
      "outputs": []
    },
    {
      "cell_type": "code",
      "source": [
        "# Feature Scaling\n",
        "\n",
        "from sklearn.preprocessing import StandardScaler\n",
        "sc = StandardScaler()\n",
        "\n",
        "X_train = sc.fit_transform(X_train)\n",
        "X_test = sc.transform(X_test)"
      ],
      "metadata": {
        "id": "wadOSNLHAgPU"
      },
      "execution_count": 12,
      "outputs": []
    },
    {
      "cell_type": "markdown",
      "source": [
        "### Building ANN model"
      ],
      "metadata": {
        "id": "Qj0CMVnPEEi3"
      }
    },
    {
      "cell_type": "code",
      "source": [
        "# Importing the Keras libraries and packages\n",
        "import keras\n",
        "from keras.models import Sequential\n",
        "from keras.layers import Dense\n",
        "from keras.layers import LeakyReLU,PReLU,ELU\n",
        "from keras.layers import Dropout"
      ],
      "metadata": {
        "id": "Mhe7WO1cD5ZV"
      },
      "execution_count": 13,
      "outputs": []
    },
    {
      "cell_type": "code",
      "source": [
        "# Initialising the ANN\n",
        "classifier = Sequential()"
      ],
      "metadata": {
        "id": "jiQIelpDELSR"
      },
      "execution_count": 14,
      "outputs": []
    },
    {
      "cell_type": "code",
      "source": [
        "# Adding the input layer and the first hidden layer\n",
        "classifier.add(Dense(units = 6, kernel_initializer = 'he_uniform',activation='relu',input_dim = 11))\n",
        "\n",
        "# units = output_dim\n",
        "# kernel_initializer = init"
      ],
      "metadata": {
        "id": "wFbwdRIZEUf2"
      },
      "execution_count": 15,
      "outputs": []
    },
    {
      "cell_type": "code",
      "source": [
        "# Adding the second hidden layer\n",
        "classifier.add(Dense(units = 6, kernel_initializer = 'he_uniform',activation='relu'))"
      ],
      "metadata": {
        "id": "s9LBtpnDFfOh"
      },
      "execution_count": 16,
      "outputs": []
    },
    {
      "cell_type": "code",
      "source": [
        "# Adding the output layer\n",
        "classifier.add(Dense(units = 1, kernel_initializer = 'glorot_uniform', activation = 'sigmoid'))"
      ],
      "metadata": {
        "id": "toPtbimaEOAV"
      },
      "execution_count": 17,
      "outputs": []
    },
    {
      "cell_type": "code",
      "source": [
        "classifier.summary()"
      ],
      "metadata": {
        "id": "CmAqsMkbGTTo",
        "outputId": "bbce5a1e-b3bd-4a05-ee00-20983777cabd",
        "colab": {
          "base_uri": "https://localhost:8080/"
        }
      },
      "execution_count": 18,
      "outputs": [
        {
          "output_type": "stream",
          "name": "stdout",
          "text": [
            "Model: \"sequential\"\n",
            "_________________________________________________________________\n",
            " Layer (type)                Output Shape              Param #   \n",
            "=================================================================\n",
            " dense (Dense)               (None, 6)                 72        \n",
            "                                                                 \n",
            " dense_1 (Dense)             (None, 6)                 42        \n",
            "                                                                 \n",
            " dense_2 (Dense)             (None, 1)                 7         \n",
            "                                                                 \n",
            "=================================================================\n",
            "Total params: 121\n",
            "Trainable params: 121\n",
            "Non-trainable params: 0\n",
            "_________________________________________________________________\n"
          ]
        }
      ]
    },
    {
      "cell_type": "code",
      "source": [
        "# Compiling the ANN\n",
        "classifier.compile(optimizer = 'Adam', loss = 'binary_crossentropy', metrics = ['accuracy'])"
      ],
      "metadata": {
        "id": "BHKpLLDVFIF1"
      },
      "execution_count": 19,
      "outputs": []
    },
    {
      "cell_type": "code",
      "source": [
        "# Fitting the ANN to the Training set\n",
        "model_history = classifier.fit(X_train, y_train,validation_split=0.33, batch_size = 50, epochs = 100)"
      ],
      "metadata": {
        "id": "djohO24aF6Gw",
        "outputId": "0d1fb78e-31f0-4c56-f96d-853537af1d5b",
        "colab": {
          "base_uri": "https://localhost:8080/"
        }
      },
      "execution_count": 20,
      "outputs": [
        {
          "output_type": "stream",
          "name": "stdout",
          "text": [
            "Epoch 1/100\n",
            "108/108 [==============================] - 1s 4ms/step - loss: 1.0978 - accuracy: 0.2952 - val_loss: 0.8540 - val_accuracy: 0.3768\n",
            "Epoch 2/100\n",
            "108/108 [==============================] - 0s 2ms/step - loss: 0.7374 - accuracy: 0.5443 - val_loss: 0.6539 - val_accuracy: 0.6740\n",
            "Epoch 3/100\n",
            "108/108 [==============================] - 0s 2ms/step - loss: 0.6010 - accuracy: 0.7397 - val_loss: 0.5629 - val_accuracy: 0.7713\n",
            "Epoch 4/100\n",
            "108/108 [==============================] - 0s 2ms/step - loss: 0.5377 - accuracy: 0.7899 - val_loss: 0.5214 - val_accuracy: 0.7936\n",
            "Epoch 5/100\n",
            "108/108 [==============================] - 0s 2ms/step - loss: 0.5048 - accuracy: 0.8033 - val_loss: 0.4970 - val_accuracy: 0.7993\n",
            "Epoch 6/100\n",
            "108/108 [==============================] - 0s 2ms/step - loss: 0.4834 - accuracy: 0.8069 - val_loss: 0.4807 - val_accuracy: 0.8027\n",
            "Epoch 7/100\n",
            "108/108 [==============================] - 0s 2ms/step - loss: 0.4682 - accuracy: 0.8080 - val_loss: 0.4693 - val_accuracy: 0.8023\n",
            "Epoch 8/100\n",
            "108/108 [==============================] - 0s 2ms/step - loss: 0.4574 - accuracy: 0.8084 - val_loss: 0.4614 - val_accuracy: 0.8023\n",
            "Epoch 9/100\n",
            "108/108 [==============================] - 0s 2ms/step - loss: 0.4490 - accuracy: 0.8065 - val_loss: 0.4545 - val_accuracy: 0.8023\n",
            "Epoch 10/100\n",
            "108/108 [==============================] - 0s 2ms/step - loss: 0.4423 - accuracy: 0.8082 - val_loss: 0.4486 - val_accuracy: 0.8046\n",
            "Epoch 11/100\n",
            "108/108 [==============================] - 0s 2ms/step - loss: 0.4358 - accuracy: 0.8140 - val_loss: 0.4424 - val_accuracy: 0.8076\n",
            "Epoch 12/100\n",
            "108/108 [==============================] - 0s 2ms/step - loss: 0.4293 - accuracy: 0.8186 - val_loss: 0.4364 - val_accuracy: 0.8095\n",
            "Epoch 13/100\n",
            "108/108 [==============================] - 0s 2ms/step - loss: 0.4232 - accuracy: 0.8220 - val_loss: 0.4305 - val_accuracy: 0.8183\n",
            "Epoch 14/100\n",
            "108/108 [==============================] - 0s 2ms/step - loss: 0.4170 - accuracy: 0.8266 - val_loss: 0.4247 - val_accuracy: 0.8243\n",
            "Epoch 15/100\n",
            "108/108 [==============================] - 0s 2ms/step - loss: 0.4101 - accuracy: 0.8350 - val_loss: 0.4183 - val_accuracy: 0.8281\n",
            "Epoch 16/100\n",
            "108/108 [==============================] - 0s 2ms/step - loss: 0.4029 - accuracy: 0.8378 - val_loss: 0.4123 - val_accuracy: 0.8334\n",
            "Epoch 17/100\n",
            "108/108 [==============================] - 0s 2ms/step - loss: 0.3963 - accuracy: 0.8436 - val_loss: 0.4067 - val_accuracy: 0.8345\n",
            "Epoch 18/100\n",
            "108/108 [==============================] - 0s 2ms/step - loss: 0.3894 - accuracy: 0.8457 - val_loss: 0.4022 - val_accuracy: 0.8319\n",
            "Epoch 19/100\n",
            "108/108 [==============================] - 0s 2ms/step - loss: 0.3837 - accuracy: 0.8451 - val_loss: 0.3965 - val_accuracy: 0.8360\n",
            "Epoch 20/100\n",
            "108/108 [==============================] - 0s 2ms/step - loss: 0.3788 - accuracy: 0.8498 - val_loss: 0.3927 - val_accuracy: 0.8398\n",
            "Epoch 21/100\n",
            "108/108 [==============================] - 0s 2ms/step - loss: 0.3745 - accuracy: 0.8520 - val_loss: 0.3894 - val_accuracy: 0.8395\n",
            "Epoch 22/100\n",
            "108/108 [==============================] - 0s 2ms/step - loss: 0.3709 - accuracy: 0.8530 - val_loss: 0.3869 - val_accuracy: 0.8372\n",
            "Epoch 23/100\n",
            "108/108 [==============================] - 0s 2ms/step - loss: 0.3681 - accuracy: 0.8533 - val_loss: 0.3840 - val_accuracy: 0.8406\n",
            "Epoch 24/100\n",
            "108/108 [==============================] - 0s 3ms/step - loss: 0.3655 - accuracy: 0.8518 - val_loss: 0.3819 - val_accuracy: 0.8379\n",
            "Epoch 25/100\n",
            "108/108 [==============================] - 0s 2ms/step - loss: 0.3634 - accuracy: 0.8543 - val_loss: 0.3805 - val_accuracy: 0.8391\n",
            "Epoch 26/100\n",
            "108/108 [==============================] - 0s 2ms/step - loss: 0.3614 - accuracy: 0.8524 - val_loss: 0.3791 - val_accuracy: 0.8410\n",
            "Epoch 27/100\n",
            "108/108 [==============================] - 0s 3ms/step - loss: 0.3600 - accuracy: 0.8552 - val_loss: 0.3779 - val_accuracy: 0.8413\n",
            "Epoch 28/100\n",
            "108/108 [==============================] - 0s 3ms/step - loss: 0.3583 - accuracy: 0.8539 - val_loss: 0.3770 - val_accuracy: 0.8398\n",
            "Epoch 29/100\n",
            "108/108 [==============================] - 1s 5ms/step - loss: 0.3571 - accuracy: 0.8550 - val_loss: 0.3760 - val_accuracy: 0.8391\n",
            "Epoch 30/100\n",
            "108/108 [==============================] - 0s 3ms/step - loss: 0.3558 - accuracy: 0.8552 - val_loss: 0.3752 - val_accuracy: 0.8402\n",
            "Epoch 31/100\n",
            "108/108 [==============================] - 0s 3ms/step - loss: 0.3549 - accuracy: 0.8545 - val_loss: 0.3745 - val_accuracy: 0.8395\n",
            "Epoch 32/100\n",
            "108/108 [==============================] - 0s 3ms/step - loss: 0.3537 - accuracy: 0.8550 - val_loss: 0.3744 - val_accuracy: 0.8395\n",
            "Epoch 33/100\n",
            "108/108 [==============================] - 0s 3ms/step - loss: 0.3528 - accuracy: 0.8550 - val_loss: 0.3732 - val_accuracy: 0.8402\n",
            "Epoch 34/100\n",
            "108/108 [==============================] - 0s 4ms/step - loss: 0.3518 - accuracy: 0.8572 - val_loss: 0.3726 - val_accuracy: 0.8398\n",
            "Epoch 35/100\n",
            "108/108 [==============================] - 0s 4ms/step - loss: 0.3513 - accuracy: 0.8561 - val_loss: 0.3721 - val_accuracy: 0.8395\n",
            "Epoch 36/100\n",
            "108/108 [==============================] - 0s 4ms/step - loss: 0.3504 - accuracy: 0.8578 - val_loss: 0.3713 - val_accuracy: 0.8398\n",
            "Epoch 37/100\n",
            "108/108 [==============================] - 0s 4ms/step - loss: 0.3495 - accuracy: 0.8582 - val_loss: 0.3713 - val_accuracy: 0.8398\n",
            "Epoch 38/100\n",
            "108/108 [==============================] - 0s 3ms/step - loss: 0.3487 - accuracy: 0.8589 - val_loss: 0.3704 - val_accuracy: 0.8421\n",
            "Epoch 39/100\n",
            "108/108 [==============================] - 0s 4ms/step - loss: 0.3484 - accuracy: 0.8572 - val_loss: 0.3699 - val_accuracy: 0.8413\n",
            "Epoch 40/100\n",
            "108/108 [==============================] - 0s 4ms/step - loss: 0.3477 - accuracy: 0.8569 - val_loss: 0.3698 - val_accuracy: 0.8429\n",
            "Epoch 41/100\n",
            "108/108 [==============================] - 0s 4ms/step - loss: 0.3470 - accuracy: 0.8580 - val_loss: 0.3691 - val_accuracy: 0.8440\n",
            "Epoch 42/100\n",
            "108/108 [==============================] - 0s 5ms/step - loss: 0.3464 - accuracy: 0.8580 - val_loss: 0.3687 - val_accuracy: 0.8436\n",
            "Epoch 43/100\n",
            "108/108 [==============================] - 0s 4ms/step - loss: 0.3458 - accuracy: 0.8582 - val_loss: 0.3678 - val_accuracy: 0.8436\n",
            "Epoch 44/100\n",
            "108/108 [==============================] - 0s 4ms/step - loss: 0.3452 - accuracy: 0.8595 - val_loss: 0.3676 - val_accuracy: 0.8459\n",
            "Epoch 45/100\n",
            "108/108 [==============================] - 0s 3ms/step - loss: 0.3450 - accuracy: 0.8600 - val_loss: 0.3668 - val_accuracy: 0.8448\n",
            "Epoch 46/100\n",
            "108/108 [==============================] - 1s 5ms/step - loss: 0.3442 - accuracy: 0.8610 - val_loss: 0.3659 - val_accuracy: 0.8466\n",
            "Epoch 47/100\n",
            "108/108 [==============================] - 1s 5ms/step - loss: 0.3435 - accuracy: 0.8599 - val_loss: 0.3657 - val_accuracy: 0.8466\n",
            "Epoch 48/100\n",
            "108/108 [==============================] - 0s 3ms/step - loss: 0.3430 - accuracy: 0.8614 - val_loss: 0.3655 - val_accuracy: 0.8466\n",
            "Epoch 49/100\n",
            "108/108 [==============================] - 0s 4ms/step - loss: 0.3426 - accuracy: 0.8612 - val_loss: 0.3649 - val_accuracy: 0.8463\n",
            "Epoch 50/100\n",
            "108/108 [==============================] - 1s 5ms/step - loss: 0.3422 - accuracy: 0.8614 - val_loss: 0.3643 - val_accuracy: 0.8474\n",
            "Epoch 51/100\n",
            "108/108 [==============================] - 0s 4ms/step - loss: 0.3416 - accuracy: 0.8604 - val_loss: 0.3638 - val_accuracy: 0.8478\n",
            "Epoch 52/100\n",
            "108/108 [==============================] - 1s 6ms/step - loss: 0.3412 - accuracy: 0.8623 - val_loss: 0.3635 - val_accuracy: 0.8463\n",
            "Epoch 53/100\n",
            "108/108 [==============================] - 1s 7ms/step - loss: 0.3407 - accuracy: 0.8621 - val_loss: 0.3630 - val_accuracy: 0.8474\n",
            "Epoch 54/100\n",
            "108/108 [==============================] - 1s 7ms/step - loss: 0.3399 - accuracy: 0.8610 - val_loss: 0.3635 - val_accuracy: 0.8501\n",
            "Epoch 55/100\n",
            "108/108 [==============================] - 1s 5ms/step - loss: 0.3402 - accuracy: 0.8600 - val_loss: 0.3625 - val_accuracy: 0.8474\n",
            "Epoch 56/100\n",
            "108/108 [==============================] - 0s 4ms/step - loss: 0.3396 - accuracy: 0.8614 - val_loss: 0.3623 - val_accuracy: 0.8470\n",
            "Epoch 57/100\n",
            "108/108 [==============================] - 0s 3ms/step - loss: 0.3394 - accuracy: 0.8625 - val_loss: 0.3620 - val_accuracy: 0.8489\n",
            "Epoch 58/100\n",
            "108/108 [==============================] - 0s 3ms/step - loss: 0.3393 - accuracy: 0.8602 - val_loss: 0.3615 - val_accuracy: 0.8485\n",
            "Epoch 59/100\n",
            "108/108 [==============================] - 0s 3ms/step - loss: 0.3390 - accuracy: 0.8608 - val_loss: 0.3615 - val_accuracy: 0.8493\n",
            "Epoch 60/100\n",
            "108/108 [==============================] - 0s 4ms/step - loss: 0.3387 - accuracy: 0.8621 - val_loss: 0.3615 - val_accuracy: 0.8489\n",
            "Epoch 61/100\n",
            "108/108 [==============================] - 0s 4ms/step - loss: 0.3387 - accuracy: 0.8608 - val_loss: 0.3617 - val_accuracy: 0.8523\n",
            "Epoch 62/100\n",
            "108/108 [==============================] - 0s 4ms/step - loss: 0.3384 - accuracy: 0.8621 - val_loss: 0.3616 - val_accuracy: 0.8516\n",
            "Epoch 63/100\n",
            "108/108 [==============================] - 0s 4ms/step - loss: 0.3382 - accuracy: 0.8602 - val_loss: 0.3610 - val_accuracy: 0.8497\n",
            "Epoch 64/100\n",
            "108/108 [==============================] - 0s 4ms/step - loss: 0.3380 - accuracy: 0.8623 - val_loss: 0.3614 - val_accuracy: 0.8504\n",
            "Epoch 65/100\n",
            "108/108 [==============================] - 1s 7ms/step - loss: 0.3381 - accuracy: 0.8623 - val_loss: 0.3608 - val_accuracy: 0.8504\n",
            "Epoch 66/100\n",
            "108/108 [==============================] - 1s 6ms/step - loss: 0.3377 - accuracy: 0.8627 - val_loss: 0.3613 - val_accuracy: 0.8504\n",
            "Epoch 67/100\n",
            "108/108 [==============================] - 0s 4ms/step - loss: 0.3375 - accuracy: 0.8621 - val_loss: 0.3613 - val_accuracy: 0.8519\n",
            "Epoch 68/100\n",
            "108/108 [==============================] - 0s 3ms/step - loss: 0.3372 - accuracy: 0.8614 - val_loss: 0.3606 - val_accuracy: 0.8519\n",
            "Epoch 69/100\n",
            "108/108 [==============================] - 0s 4ms/step - loss: 0.3371 - accuracy: 0.8621 - val_loss: 0.3606 - val_accuracy: 0.8519\n",
            "Epoch 70/100\n",
            "108/108 [==============================] - 0s 3ms/step - loss: 0.3370 - accuracy: 0.8615 - val_loss: 0.3602 - val_accuracy: 0.8512\n",
            "Epoch 71/100\n",
            "108/108 [==============================] - 0s 2ms/step - loss: 0.3367 - accuracy: 0.8615 - val_loss: 0.3611 - val_accuracy: 0.8512\n",
            "Epoch 72/100\n",
            "108/108 [==============================] - 0s 2ms/step - loss: 0.3367 - accuracy: 0.8608 - val_loss: 0.3610 - val_accuracy: 0.8504\n",
            "Epoch 73/100\n",
            "108/108 [==============================] - 0s 2ms/step - loss: 0.3364 - accuracy: 0.8612 - val_loss: 0.3606 - val_accuracy: 0.8497\n",
            "Epoch 74/100\n",
            "108/108 [==============================] - 0s 2ms/step - loss: 0.3361 - accuracy: 0.8614 - val_loss: 0.3603 - val_accuracy: 0.8497\n",
            "Epoch 75/100\n",
            "108/108 [==============================] - 0s 2ms/step - loss: 0.3365 - accuracy: 0.8619 - val_loss: 0.3600 - val_accuracy: 0.8523\n",
            "Epoch 76/100\n",
            "108/108 [==============================] - 0s 2ms/step - loss: 0.3359 - accuracy: 0.8599 - val_loss: 0.3601 - val_accuracy: 0.8519\n",
            "Epoch 77/100\n",
            "108/108 [==============================] - 0s 2ms/step - loss: 0.3357 - accuracy: 0.8625 - val_loss: 0.3603 - val_accuracy: 0.8519\n",
            "Epoch 78/100\n",
            "108/108 [==============================] - 0s 2ms/step - loss: 0.3357 - accuracy: 0.8614 - val_loss: 0.3607 - val_accuracy: 0.8508\n",
            "Epoch 79/100\n",
            "108/108 [==============================] - 0s 2ms/step - loss: 0.3353 - accuracy: 0.8619 - val_loss: 0.3603 - val_accuracy: 0.8527\n",
            "Epoch 80/100\n",
            "108/108 [==============================] - 0s 2ms/step - loss: 0.3353 - accuracy: 0.8612 - val_loss: 0.3602 - val_accuracy: 0.8523\n",
            "Epoch 81/100\n",
            "108/108 [==============================] - 0s 2ms/step - loss: 0.3355 - accuracy: 0.8610 - val_loss: 0.3600 - val_accuracy: 0.8523\n",
            "Epoch 82/100\n",
            "108/108 [==============================] - 0s 2ms/step - loss: 0.3350 - accuracy: 0.8612 - val_loss: 0.3599 - val_accuracy: 0.8531\n",
            "Epoch 83/100\n",
            "108/108 [==============================] - 0s 2ms/step - loss: 0.3352 - accuracy: 0.8623 - val_loss: 0.3603 - val_accuracy: 0.8527\n",
            "Epoch 84/100\n",
            "108/108 [==============================] - 0s 2ms/step - loss: 0.3348 - accuracy: 0.8617 - val_loss: 0.3601 - val_accuracy: 0.8527\n",
            "Epoch 85/100\n",
            "108/108 [==============================] - 0s 2ms/step - loss: 0.3346 - accuracy: 0.8619 - val_loss: 0.3599 - val_accuracy: 0.8527\n",
            "Epoch 86/100\n",
            "108/108 [==============================] - 0s 3ms/step - loss: 0.3348 - accuracy: 0.8617 - val_loss: 0.3600 - val_accuracy: 0.8531\n",
            "Epoch 87/100\n",
            "108/108 [==============================] - 0s 3ms/step - loss: 0.3346 - accuracy: 0.8608 - val_loss: 0.3604 - val_accuracy: 0.8519\n",
            "Epoch 88/100\n",
            "108/108 [==============================] - 0s 3ms/step - loss: 0.3341 - accuracy: 0.8608 - val_loss: 0.3601 - val_accuracy: 0.8531\n",
            "Epoch 89/100\n",
            "108/108 [==============================] - 0s 3ms/step - loss: 0.3343 - accuracy: 0.8628 - val_loss: 0.3601 - val_accuracy: 0.8535\n",
            "Epoch 90/100\n",
            "108/108 [==============================] - 0s 2ms/step - loss: 0.3342 - accuracy: 0.8606 - val_loss: 0.3599 - val_accuracy: 0.8523\n",
            "Epoch 91/100\n",
            "108/108 [==============================] - 0s 3ms/step - loss: 0.3340 - accuracy: 0.8617 - val_loss: 0.3601 - val_accuracy: 0.8527\n",
            "Epoch 92/100\n",
            "108/108 [==============================] - 0s 2ms/step - loss: 0.3342 - accuracy: 0.8615 - val_loss: 0.3601 - val_accuracy: 0.8535\n",
            "Epoch 93/100\n",
            "108/108 [==============================] - 0s 2ms/step - loss: 0.3337 - accuracy: 0.8619 - val_loss: 0.3606 - val_accuracy: 0.8519\n",
            "Epoch 94/100\n",
            "108/108 [==============================] - 0s 2ms/step - loss: 0.3346 - accuracy: 0.8610 - val_loss: 0.3604 - val_accuracy: 0.8535\n",
            "Epoch 95/100\n",
            "108/108 [==============================] - 0s 2ms/step - loss: 0.3338 - accuracy: 0.8634 - val_loss: 0.3603 - val_accuracy: 0.8542\n",
            "Epoch 96/100\n",
            "108/108 [==============================] - 0s 2ms/step - loss: 0.3337 - accuracy: 0.8632 - val_loss: 0.3597 - val_accuracy: 0.8542\n",
            "Epoch 97/100\n",
            "108/108 [==============================] - 0s 2ms/step - loss: 0.3335 - accuracy: 0.8630 - val_loss: 0.3597 - val_accuracy: 0.8542\n",
            "Epoch 98/100\n",
            "108/108 [==============================] - 0s 2ms/step - loss: 0.3338 - accuracy: 0.8621 - val_loss: 0.3599 - val_accuracy: 0.8546\n",
            "Epoch 99/100\n",
            "108/108 [==============================] - 0s 2ms/step - loss: 0.3334 - accuracy: 0.8628 - val_loss: 0.3599 - val_accuracy: 0.8527\n",
            "Epoch 100/100\n",
            "108/108 [==============================] - 0s 2ms/step - loss: 0.3330 - accuracy: 0.8638 - val_loss: 0.3597 - val_accuracy: 0.8542\n"
          ]
        }
      ]
    },
    {
      "cell_type": "code",
      "source": [
        "# list all data in history\n",
        "\n",
        "print(model_history.history.keys())"
      ],
      "metadata": {
        "id": "6GUgZ5DlHBOb",
        "outputId": "c8237ffc-78a9-4de9-dfa9-4c1121cace06",
        "colab": {
          "base_uri": "https://localhost:8080/"
        }
      },
      "execution_count": 21,
      "outputs": [
        {
          "output_type": "stream",
          "name": "stdout",
          "text": [
            "dict_keys(['loss', 'accuracy', 'val_loss', 'val_accuracy'])\n"
          ]
        }
      ]
    },
    {
      "cell_type": "code",
      "source": [
        "# summarize history for accuracy\n",
        "\n",
        "plt.plot(model_history.history['accuracy'])\n",
        "plt.plot(model_history.history['val_accuracy'])\n",
        "plt.title('model accuracy')\n",
        "plt.ylabel('accuracy')\n",
        "plt.xlabel('epoch')\n",
        "plt.legend(['train', 'test'], loc='upper left')\n",
        "plt.show()"
      ],
      "metadata": {
        "id": "irb2bWR0IONf",
        "outputId": "1dde127e-c5cd-445b-c865-41c25f697374",
        "colab": {
          "base_uri": "https://localhost:8080/",
          "height": 472
        }
      },
      "execution_count": 22,
      "outputs": [
        {
          "output_type": "display_data",
          "data": {
            "text/plain": [
              "<Figure size 640x480 with 1 Axes>"
            ],
            "image/png": "[encoded data removed]"
          },
          "metadata": {}
        }
      ]
    },
    {
      "cell_type": "code",
      "source": [
        "# summarize history for loss\n",
        "plt.plot(model_history.history['loss'])\n",
        "plt.plot(model_history.history['val_loss'])\n",
        "plt.title('model loss')\n",
        "plt.ylabel('loss')\n",
        "plt.xlabel('epoch')\n",
        "plt.legend(['train', 'test'], loc='upper left')\n",
        "plt.show()"
      ],
      "metadata": {
        "id": "GbJC_6sPIse9",
        "outputId": "535147d6-fd00-47fa-b9df-90874846f574",
        "colab": {
          "base_uri": "https://localhost:8080/",
          "height": 472
        }
      },
      "execution_count": 23,
      "outputs": [
        {
          "output_type": "display_data",
          "data": {
            "text/plain": [
              "<Figure size 640x480 with 1 Axes>"
            ],
            "image/png": "[encoded data removed]"
          },
          "metadata": {}
        }
      ]
    },
    {
      "cell_type": "markdown",
      "source": [
        "### Making the predictions and evaluating the model"
      ],
      "metadata": {
        "id": "7qyhqXt4I83v"
      }
    },
    {
      "cell_type": "code",
      "source": [
        "# Predicting the Test set results\n",
        "y_pred = classifier.predict(X_test)\n",
        "y_pred[:5]"
      ],
      "metadata": {
        "id": "KUSfWha3I4B8",
        "outputId": "09ecc571-36c2-4037-fc3c-f899cd94a921",
        "colab": {
          "base_uri": "https://localhost:8080/"
        }
      },
      "execution_count": 24,
      "outputs": [
        {
          "output_type": "stream",
          "name": "stdout",
          "text": [
            "63/63 [==============================] - 0s 1ms/step\n"
          ]
        },
        {
          "output_type": "execute_result",
          "data": {
            "text/plain": [
              "array([[0.3858518 ],\n",
              "       [0.3207456 ],\n",
              "       [0.19801748],\n",
              "       [0.06980166],\n",
              "       [0.0486078 ]], dtype=float32)"
            ]
          },
          "metadata": {},
          "execution_count": 24
        }
      ]
    },
    {
      "cell_type": "code",
      "source": [
        "y_pred_transformed = np.where(y_pred > 0.5, 1, 0)\n",
        "y_pred_transformed[:5]"
      ],
      "metadata": {
        "id": "WBtd6vy-NLJ6",
        "outputId": "ea08de96-2cac-48f6-fc03-813275659fc1",
        "colab": {
          "base_uri": "https://localhost:8080/"
        }
      },
      "execution_count": 25,
      "outputs": [
        {
          "output_type": "execute_result",
          "data": {
            "text/plain": [
              "array([[0],\n",
              "       [0],\n",
              "       [0],\n",
              "       [0],\n",
              "       [0]])"
            ]
          },
          "metadata": {},
          "execution_count": 25
        }
      ]
    },
    {
      "cell_type": "code",
      "source": [
        "y_test[:5]"
      ],
      "metadata": {
        "id": "GR_XfYG0JSIg",
        "outputId": "03759b47-95b4-4876-991a-d9de0503d65e",
        "colab": {
          "base_uri": "https://localhost:8080/"
        }
      },
      "execution_count": 26,
      "outputs": [
        {
          "output_type": "execute_result",
          "data": {
            "text/plain": [
              "9394    0\n",
              "898     1\n",
              "2398    0\n",
              "5906    0\n",
              "2343    0\n",
              "Name: Exited, dtype: int64"
            ]
          },
          "metadata": {},
          "execution_count": 26
        }
      ]
    },
    {
      "cell_type": "code",
      "source": [
        "type(y_test)"
      ],
      "metadata": {
        "id": "7cMBMolYLVwI",
        "outputId": "d8fdbcd7-312f-4d57-deac-4344eafa30f4",
        "colab": {
          "base_uri": "https://localhost:8080/"
        }
      },
      "execution_count": 27,
      "outputs": [
        {
          "output_type": "execute_result",
          "data": {
            "text/plain": [
              "pandas.core.series.Series"
            ]
          },
          "metadata": {},
          "execution_count": 27
        }
      ]
    },
    {
      "cell_type": "code",
      "source": [
        "# Making the Confusion Matrix\n",
        "from sklearn.metrics import confusion_matrix\n",
        "cm = confusion_matrix(y_test, y_pred_transformed)\n",
        "cm"
      ],
      "metadata": {
        "id": "-_xVEbrMJgtF",
        "outputId": "4c0f9f37-052d-4dca-94ae-0ed1f617775f",
        "colab": {
          "base_uri": "https://localhost:8080/"
        }
      },
      "execution_count": 28,
      "outputs": [
        {
          "output_type": "execute_result",
          "data": {
            "text/plain": [
              "array([[1513,   82],\n",
              "       [ 202,  203]])"
            ]
          },
          "metadata": {},
          "execution_count": 28
        }
      ]
    },
    {
      "cell_type": "code",
      "source": [
        "# Calculate the Accuracy\n",
        "from sklearn.metrics import accuracy_score\n",
        "score=accuracy_score(y_pred_transformed,y_test)\n",
        "score"
      ],
      "metadata": {
        "id": "k9Eh_BzBOH0W",
        "outputId": "6a00e85c-6a96-4958-d177-8cfcecd5376c",
        "colab": {
          "base_uri": "https://localhost:8080/"
        }
      },
      "execution_count": 29,
      "outputs": [
        {
          "output_type": "execute_result",
          "data": {
            "text/plain": [
              "0.858"
            ]
          },
          "metadata": {},
          "execution_count": 29
        }
      ]
    },
    {
      "cell_type": "code",
      "source": [],
      "metadata": {
        "id": "W0FpdtRuOhs2"
      },
      "execution_count": 29,
      "outputs": []
    }
  ]
}